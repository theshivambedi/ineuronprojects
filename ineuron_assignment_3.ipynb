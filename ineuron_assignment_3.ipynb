{
 "cells": [
  {
   "cell_type": "code",
   "execution_count": null,
   "id": "3cb38502",
   "metadata": {},
   "outputs": [],
   "source": [
    "# 1. Why are functions advantageous to have in your programs?\n",
    "\n",
    "\"\"\"\n",
    "Functions are advantegous since you can use the same code over and over again based upon differenet inputs. You don't\n",
    "need to write the same code again and again, you just need to call the function. It also helps us to break larger code \n",
    "into small pieces whcih we can test and helps us in debugging as well.\n",
    "\"\"\""
   ]
  },
  {
   "cell_type": "code",
   "execution_count": null,
   "id": "90a964a3",
   "metadata": {},
   "outputs": [],
   "source": [
    "# 2. When does the code in a function run: when it's specified or when it's called?\n",
    "\n",
    "\"\"\"\n",
    "A function is run only when it is called.\n",
    "\"\"\""
   ]
  },
  {
   "cell_type": "code",
   "execution_count": null,
   "id": "aa66659d",
   "metadata": {},
   "outputs": [],
   "source": [
    "# 3. What statement creates a function?\n",
    "\n",
    "\"\"\"\n",
    "'def' statement created a function.\n",
    "\"\"\""
   ]
  },
  {
   "cell_type": "code",
   "execution_count": null,
   "id": "e4f7ebc3",
   "metadata": {},
   "outputs": [],
   "source": [
    "# 4. What is the difference between a function and a function call?\n",
    "\"\"\"\n",
    "A function is a block of code which can be used to perform specific tasks and can be reused as well. \n",
    "\n",
    "A function call is after we define the function, when we want it to perform that task, we call that function by \n",
    "functionname() and parenthesis. A function will only perform tasks when it is called.\n",
    "\"\"\""
   ]
  },
  {
   "cell_type": "code",
   "execution_count": null,
   "id": "b6dab456",
   "metadata": {},
   "outputs": [],
   "source": [
    "# 5. How many global scopes are there in a Python program? How many local scopes?\n",
    "\n",
    "\"\"\"\n",
    "There can be only one global scope where elements can be accessed from anywhere in the code. Where as there can be\n",
    "multiple local scopes in the code. \n",
    "\n",
    "\"\"\""
   ]
  },
  {
   "cell_type": "code",
   "execution_count": null,
   "id": "691e5a70",
   "metadata": {},
   "outputs": [],
   "source": [
    "# 6. What happens to variables in a local scope when the function call returns?\n",
    "\n",
    "\"\"\"\n",
    "Local scopes are destroted when the function call returns. It is only available for the time function is called and\n",
    "after that it is not accesible. \n",
    "\n",
    "\"\"\""
   ]
  },
  {
   "cell_type": "code",
   "execution_count": null,
   "id": "b2fbe143",
   "metadata": {},
   "outputs": [],
   "source": [
    "# 7. What is the concept of a return value? Is it possible to have a return value in an expression?\n",
    "\n",
    "\"\"\"\n",
    "The return value returns the value in a function. The returned value can be print and used anywhere else and can be\n",
    "manipulated as well. \n",
    "\n",
    "Yes, we can use the return value in an expression. We can manipulate the return value to store, and do matematical \n",
    "operations on it.\n",
    "\"\"\""
   ]
  },
  {
   "cell_type": "code",
   "execution_count": null,
   "id": "5d9e57eb",
   "metadata": {},
   "outputs": [],
   "source": [
    "# 8. If a function does not have a return statement, what is the return value of a call to that function?\n",
    "\n",
    "\"\"\"\n",
    "If the function does not have a retunr statement, it will either throw error or print if we will give the print statement.\n",
    "\n",
    "\"\"\""
   ]
  },
  {
   "cell_type": "code",
   "execution_count": null,
   "id": "589972e8",
   "metadata": {},
   "outputs": [],
   "source": [
    "# 9. How do you make a function variable refer to the global variable?\n",
    "\n",
    "\n",
    "\"\"\"\n",
    "We use the global keyword in order to make function variable refer to the global variable. Refer to the below code.\n",
    "\n",
    "a = 55\n",
    "\n",
    "def my_function():\n",
    "    global a\n",
    "    print(\"inside function: \", a+20)\n",
    "    \n",
    "\n",
    "my_function()\n",
    "\n",
    "\"\"\"\n"
   ]
  },
  {
   "cell_type": "code",
   "execution_count": null,
   "id": "6e5106a5",
   "metadata": {},
   "outputs": [],
   "source": [
    "# 10. What is the data type of None?\n",
    "\n",
    "#The data type of None is Nonetype. It represents null value. "
   ]
  },
  {
   "cell_type": "code",
   "execution_count": 55,
   "id": "fec33cee",
   "metadata": {},
   "outputs": [],
   "source": [
    "# 11. What does the sentence import areallyourpetsnamederic do?\n",
    "\n",
    "#It imports areallyourpetsnamederic module. Since it is not an inbuilt module, it will throw an error. "
   ]
  },
  {
   "cell_type": "code",
   "execution_count": null,
   "id": "bdcd0583",
   "metadata": {},
   "outputs": [],
   "source": [
    "# 12. If you had a bacon() feature in a spam module, what would you call it after importing spam?\n",
    "\n",
    "\n",
    "# we would call it by spam.bacon()"
   ]
  },
  {
   "cell_type": "code",
   "execution_count": 57,
   "id": "6f33a9e9",
   "metadata": {},
   "outputs": [],
   "source": [
    "# 13. What can you do to save a programme from crashing if it encounters an error?\n",
    "\n",
    "#We can implement exception handling. We can use try and except in python to encounter this. "
   ]
  },
  {
   "cell_type": "code",
   "execution_count": null,
   "id": "4e0c0a3e",
   "metadata": {},
   "outputs": [],
   "source": [
    "# 14. What is the purpose of the try clause? What is the purpose of the except clause?\n",
    "\n",
    "\n",
    "\"\"\"\n",
    "The purpose of try clause is to run a code which might raise an exception and the purpose of except clause is to \n",
    "handle that exception in such a way that it will not cause code to interrupt. If an exception occurs, except clause\n",
    "will handle it, and the program will run continue to run further without getting stopped.\n",
    "\n",
    "\"\"\""
   ]
  }
 ],
 "metadata": {
  "kernelspec": {
   "display_name": "Python 3",
   "language": "python",
   "name": "python3"
  },
  "language_info": {
   "codemirror_mode": {
    "name": "ipython",
    "version": 3
   },
   "file_extension": ".py",
   "mimetype": "text/x-python",
   "name": "python",
   "nbconvert_exporter": "python",
   "pygments_lexer": "ipython3",
   "version": "3.8.8"
  }
 },
 "nbformat": 4,
 "nbformat_minor": 5
}
