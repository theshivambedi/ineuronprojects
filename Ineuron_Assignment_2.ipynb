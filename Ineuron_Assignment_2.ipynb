{
 "cells": [
  {
   "cell_type": "code",
   "execution_count": 1,
   "id": "b67945d7",
   "metadata": {},
   "outputs": [
    {
     "data": {
      "text/plain": [
       "False"
      ]
     },
     "execution_count": 1,
     "metadata": {},
     "output_type": "execute_result"
    }
   ],
   "source": [
    "# 1.What are the two values of the Boolean data type? How do you write them?\n",
    "\"\"\" The two values of boolean data types are 'True' and 'False'. We would write them as True and False only, just \n",
    "removing the quotes as it is shown below.\"\"\"\n",
    "True\n",
    "False"
   ]
  },
  {
   "cell_type": "code",
   "execution_count": null,
   "id": "61eeebba",
   "metadata": {},
   "outputs": [],
   "source": [
    "# 2. What are the three different types of Boolean operators?\n",
    "\"\"\" The three different types of boolean operatos are 'AND', 'OR' and 'NOT, !' \"\"\""
   ]
  },
  {
   "cell_type": "code",
   "execution_count": 11,
   "id": "10683396",
   "metadata": {},
   "outputs": [
    {
     "name": "stdout",
     "output_type": "stream",
     "text": [
      "True\n",
      "False\n",
      "False\n",
      "False\n",
      "True\n",
      "True\n",
      "True\n",
      "False\n",
      "False\n",
      "True\n"
     ]
    }
   ],
   "source": [
    "\"\"\" Make a list of each Boolean operator's truth tables (i.e. every possible combination of Boolean \n",
    "values for the operator and what it evaluate ).\"\"\"\n",
    "\n",
    "#First we will do it for the 'and' operator\n",
    "\n",
    "print(True and True) #Result is True\n",
    "print(True and False)#Result is False\n",
    "print(False and True) #Result is False\n",
    "print(False and False)#Result is Flase\n",
    "\n",
    "#Then we will do for the 'or' operator\n",
    "\n",
    "print(True or True) #Result is True\n",
    "print(True or False)#Result is True\n",
    "print(False or True) #Result is True\n",
    "print(False or False)#Result is Flase\n",
    "\n",
    "#Now we will do for the 'Not' operator\n",
    "\n",
    "print(not True) #Result is Flase\n",
    "print(not False)#Result is True"
   ]
  },
  {
   "cell_type": "code",
   "execution_count": 21,
   "id": "47f8eef7",
   "metadata": {},
   "outputs": [
    {
     "name": "stdout",
     "output_type": "stream",
     "text": [
      "False\n",
      "False\n",
      "True\n",
      "False\n",
      "False\n",
      "True\n"
     ]
    }
   ],
   "source": [
    "# 4. What are the values of the following expressions?\n",
    "print ((5 > 4) and (3 == 5)) # False\n",
    "print (not 5>4) #False\n",
    "print ((5>4) or (3==5)) #True\n",
    "print (not((5>4) or (3==5))) #False\n",
    "print ((True and False) and (True == False)) #False\n",
    "print ((not False) or (not True)) #True"
   ]
  },
  {
   "cell_type": "code",
   "execution_count": null,
   "id": "8983df24",
   "metadata": {},
   "outputs": [],
   "source": [
    "# 5. What are the six comparison operators?\n",
    "\"\"\"\n",
    "Six comparison operators are \n",
    "\n",
    "1. >\n",
    "2. <\n",
    "3. ==\n",
    "4. !=\n",
    "5. >=\n",
    "6. <=\n",
    "\"\"\""
   ]
  },
  {
   "cell_type": "code",
   "execution_count": 23,
   "id": "c9d7a4c0",
   "metadata": {},
   "outputs": [],
   "source": [
    "\"\"\"6. How do you tell the difference between the equal to and assignment operators?\n",
    "Describe a condition and when you would use one.\"\"\"\n",
    "\n",
    "\"\"\"\n",
    "The difference between equal and assigment operator is that equal operator has one '=' equal sign and assignment\n",
    "operatos has two \"==\" signs. \n",
    "We use == sign when we have to compare something. It's a comparison operator and = is an assignment operator which\n",
    "assign value to a variable. Example give below:\n",
    "\"\"\"\n",
    "\n",
    "5==5\n",
    "assignmentoperator = 7"
   ]
  },
  {
   "cell_type": "code",
   "execution_count": 30,
   "id": "c21af29f",
   "metadata": {},
   "outputs": [
    {
     "name": "stdout",
     "output_type": "stream",
     "text": [
      "bacon\n",
      "spam\n",
      "spam\n"
     ]
    }
   ],
   "source": [
    "#7. Identify the three blocks in this code:\n",
    "spam = 6\n",
    "if spam == 10:\n",
    " print(\"eggs\") #block here\n",
    "if spam >5 :\n",
    " print(\"bacon\") #block here\n",
    "else:\n",
    " print(\"ham\") #block here\n",
    "print(\"spam\")\n",
    "print(\"spam\")"
   ]
  },
  {
   "cell_type": "code",
   "execution_count": 32,
   "id": "74faaee3",
   "metadata": {},
   "outputs": [
    {
     "name": "stdout",
     "output_type": "stream",
     "text": [
      "Greetings\n"
     ]
    }
   ],
   "source": [
    "\"\"\"\n",
    "Write code that prints Hello if 1 is stored in spam, prints Howdy if 2 is stored in spam, and prints\n",
    "Greetings! if anything else is stored in spam.\n",
    "\"\"\"\n",
    "\n",
    "spam = 4\n",
    "\n",
    "if spam == 1:\n",
    "    print(\"Hello\")\n",
    "elif spam == 2:\n",
    "    print(\"Howdy\")\n",
    "else:\n",
    "    print(\"Greetings\")"
   ]
  },
  {
   "cell_type": "code",
   "execution_count": null,
   "id": "288d0fba",
   "metadata": {},
   "outputs": [],
   "source": [
    "# 9.If your programme is stuck in an endless loop, what keys you’ll press?\n",
    "\n",
    "#We will press esc+ ii key"
   ]
  },
  {
   "cell_type": "code",
   "execution_count": null,
   "id": "6d1b4a75",
   "metadata": {},
   "outputs": [],
   "source": [
    "# 10. How can you tell the difference between break and continue?\n",
    "\n",
    "\"\"\"Break is used to exit the loop whereas continue is used to skip the current iteration. One exits the entire loop\n",
    "and other just skips one part of the loop.\"\"\""
   ]
  },
  {
   "cell_type": "code",
   "execution_count": 51,
   "id": "6fa3fb2b",
   "metadata": {},
   "outputs": [
    {
     "name": "stdout",
     "output_type": "stream",
     "text": [
      "0\n",
      "1\n",
      "2\n",
      "3\n",
      "4\n",
      "5\n",
      "6\n",
      "7\n",
      "8\n",
      "9\n"
     ]
    }
   ],
   "source": [
    "# 11. In a for loop, what is the difference between range(10), range(0, 10), and range(0, 10, 1)?\n",
    "\n",
    "\"\"\"\n",
    "1. range(10) is stating that start from zero and go till 10-1\n",
    "2. range(0,10) is stating that we are giving a starting point to the range that is zero\n",
    "3. range(1,10,1) is stating that we are giving it a skipping index, well it won't skip anything unless we make it 2 \n",
    "and furhter.\n",
    "\n",
    "\"\"\"\n",
    "\n",
    "for i in range(10):\n",
    "    print(i)"
   ]
  },
  {
   "cell_type": "code",
   "execution_count": 49,
   "id": "646bdc58",
   "metadata": {},
   "outputs": [
    {
     "name": "stdout",
     "output_type": "stream",
     "text": [
      "1\n",
      "2\n",
      "3\n",
      "4\n",
      "5\n",
      "6\n",
      "7\n",
      "8\n",
      "9\n",
      "10\n",
      "1\n",
      "2\n",
      "3\n",
      "4\n",
      "5\n",
      "6\n",
      "7\n",
      "8\n",
      "9\n",
      "10\n"
     ]
    }
   ],
   "source": [
    "\"\"\"12. Write a short program that prints the numbers 1 to 10 using a for loop. Then write an equivalent\n",
    "program that prints the numbers 1 to 10 using a while loop.\"\"\"\n",
    "\n",
    "for i in range(1,11):\n",
    "    print(i)\n",
    "\n",
    "i = 1    \n",
    "\n",
    "while i <=10:\n",
    "    print(i)\n",
    "    i+=1"
   ]
  },
  {
   "cell_type": "code",
   "execution_count": null,
   "id": "42e5a5ae",
   "metadata": {},
   "outputs": [],
   "source": [
    "\"\"\"13. If you had a function named bacon() inside a module named spam, how would you call it after\n",
    "importing spam?\"\"\"\n",
    "\n",
    "\"\"\"I would have called using statement'spam.bacon()' \"\"\""
   ]
  }
 ],
 "metadata": {
  "kernelspec": {
   "display_name": "Python 3",
   "language": "python",
   "name": "python3"
  },
  "language_info": {
   "codemirror_mode": {
    "name": "ipython",
    "version": 3
   },
   "file_extension": ".py",
   "mimetype": "text/x-python",
   "name": "python",
   "nbconvert_exporter": "python",
   "pygments_lexer": "ipython3",
   "version": "3.8.8"
  }
 },
 "nbformat": 4,
 "nbformat_minor": 5
}
